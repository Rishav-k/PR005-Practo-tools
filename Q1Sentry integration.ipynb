{
  "nbformat": 4,
  "nbformat_minor": 0,
  "metadata": {
    "colab": {
      "provenance": []
    },
    "kernelspec": {
      "name": "python3",
      "display_name": "Python 3"
    },
    "language_info": {
      "name": "python"
    }
  },
  "cells": [
    {
      "cell_type": "markdown",
      "source": [],
      "metadata": {
        "id": "iqqDZrrE9qys"
      }
    },
    {
      "cell_type": "code",
      "execution_count": null,
      "metadata": {
        "colab": {
          "base_uri": "https://localhost:8080/"
        },
        "id": "g0Bf9JIu9Mz6",
        "outputId": "27aca76a-54b8-4310-cc06-54ea63a9b831"
      },
      "outputs": [
        {
          "output_type": "stream",
          "name": "stdout",
          "text": [
            "Requirement already satisfied: sentry-sdk in /usr/local/lib/python3.10/dist-packages (2.6.0)\n",
            "Requirement already satisfied: urllib3>=1.26.11 in /usr/local/lib/python3.10/dist-packages (from sentry-sdk) (2.0.7)\n",
            "Requirement already satisfied: certifi in /usr/local/lib/python3.10/dist-packages (from sentry-sdk) (2024.6.2)\n"
          ]
        }
      ],
      "source": [
        "pip install --upgrade sentry-sdk"
      ]
    },
    {
      "cell_type": "code",
      "source": [
        "import sentry_sdk\n",
        "\n",
        "sentry_sdk.init(\"https://f956011f88390a9246f0d6912ca118b0@o4507496509014016.ingest.us.sentry.io/4507496517074944\")"
      ],
      "metadata": {
        "colab": {
          "base_uri": "https://localhost:8080/"
        },
        "id": "oo4tkKKk-ca7",
        "outputId": "43508ab0-c00e-4c6f-dbae-04c1b3418897"
      },
      "execution_count": null,
      "outputs": [
        {
          "output_type": "execute_result",
          "data": {
            "text/plain": [
              "<sentry_sdk.hub._InitGuard at 0x7cc6499ab5b0>"
            ]
          },
          "metadata": {},
          "execution_count": 5
        }
      ]
    },
    {
      "cell_type": "code",
      "source": [
        "def divide_numbers(num1, num2):\n",
        "    try:\n",
        "        result = num1 / num2\n",
        "        return result\n",
        "    except ZeroDivisionError:\n",
        "        # Capture the error and send it to Sentry\n",
        "        sentry_sdk.capture_exception()\n",
        "        return \"Cannot divide by zero\"\n",
        "\n",
        "num1 = 10\n",
        "num2 = 0\n",
        "result = divide_numbers(num1, num2)\n",
        "print(result)"
      ],
      "metadata": {
        "colab": {
          "base_uri": "https://localhost:8080/"
        },
        "id": "3oM4kNNf-0AU",
        "outputId": "b0f8a1f0-e490-4a01-e5e5-80f5f59e4bcd"
      },
      "execution_count": null,
      "outputs": [
        {
          "output_type": "stream",
          "name": "stdout",
          "text": [
            "Cannot divide by zero\n"
          ]
        }
      ]
    },
    {
      "cell_type": "code",
      "source": [
        "#Command for staging\n",
        "\n",
        "#!/bin/bash\n",
        "\n",
        "# Set the staging environment variables\n",
        "export STAGING_ENV=true\n",
        "export STAGING_URL=https://staging.example.com\n",
        "\n",
        "# Deploy the service to staging\n",
        "docker push my-service:latest\n",
        "kubectl rollout update deployment my-service-staging --image=my-service:latest"
      ],
      "metadata": {
        "id": "qAXC7ODwCDhd"
      },
      "execution_count": null,
      "outputs": []
    }
  ]
}